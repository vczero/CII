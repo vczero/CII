{
 "cells": [
  {
   "cell_type": "code",
   "execution_count": 31,
   "id": "8484b6fe-79fb-42f4-bad2-f2793de0da27",
   "metadata": {
    "tags": []
   },
   "outputs": [],
   "source": [
    "import pandas as pd\n",
    "import numpy as np\n",
    "from collections import Counter\n",
    "import matplotlib.pyplot as plt\n",
    "import seaborn as sns\n",
    "from matplotlib.colors import LinearSegmentedColormap\n",
    "import matplotlib.lines as mlines\n",
    "import os\n",
    "from IPython.display import display\n",
    "import networkx as nx\n",
    "import statistics\n",
    "import scipy.stats as st\n",
    "from sklearn.metrics import jaccard_score\n",
    "from haversine import haversine\n",
    "import math\n",
    "from graphviz import Digraph"
   ]
  },
  {
   "cell_type": "code",
   "execution_count": 2,
   "id": "5df873ae-8564-41c7-9010-a9e59cc54a78",
   "metadata": {
    "tags": []
   },
   "outputs": [],
   "source": [
    "df_martix = pd.read_csv('./study_data/cities_gzh_aja_martix.csv')\n",
    "df_citys = pd.read_csv('./study_data/sa340.csv')\n",
    "df_martix.set_index('city', inplace=True)\n",
    "rank = pd.read_csv('./study_data/score/城市信息+排名得分综合表.csv')\n",
    "df_in_out = pd.read_csv('./study_data/all_cities_in_out_count.csv')"
   ]
  },
  {
   "cell_type": "code",
   "execution_count": 64,
   "id": "2babbb5a-a93a-4dd9-a8c1-6a5853b408f6",
   "metadata": {
    "tags": []
   },
   "outputs": [],
   "source": [
    "def city_in_out_degree(city):\n",
    "    # /////////STEP1：处理边//////////\n",
    "    # out\n",
    "    temp_out = df_martix.loc[[city]]\n",
    "    datas_out = []\n",
    "    for column, value in zip(temp_out.columns, temp_out.iloc[0]):\n",
    "        if value > 0:\n",
    "            datas_out.append([city, column, value, 'out'])\n",
    "    df_out = pd.DataFrame(datas_out, columns=['source_Label', 'target_Label', 'weight', '_class'])\n",
    "    \n",
    "    # in \n",
    "    temp_in = df_martix[city]\n",
    "    datas_in = []\n",
    "    for index, value in temp_in.items():\n",
    "        if value > 0:\n",
    "            datas_in.append([index, city, value, 'in'])\n",
    "    df_in = pd.DataFrame(datas_in, columns=['source_Label', 'target_Label', 'weight', '_class'])\n",
    "    \n",
    "    # 合并 in + out, 组成边\n",
    "    edges = pd.concat([df_in, df_out])\n",
    "    \n",
    "    # /////////STEP2：处理节点编号//////////\n",
    "    # 将节点编号为ID\n",
    "    city_names = list(set(edges['source_Label'].tolist() + edges['target_Label'].tolist()))\n",
    "    city_dict = {city: i for i, city in enumerate(city_names)}\n",
    "    \n",
    "    # /////////STEP3：给edges增加城市编号//////////\n",
    "    edges_data = []\n",
    "    for i, r in edges.iterrows():\n",
    "        source_Label = r['source_Label']\n",
    "        target_Label = r['target_Label']\n",
    "        source_id = city_dict.get(source_Label)\n",
    "        target_id = city_dict.get(target_Label)\n",
    "        # 不需要加权重r['Weight'],\n",
    "        edges_data.append([source_id, target_id, source_Label, target_Label,  r['_class'] ])\n",
    "        \n",
    "    final_edges = pd.DataFrame(edges_data, columns=['source', 'target', 'source_Label', 'target_Label', '_class'])\n",
    "        \n",
    "    #//////STEP4: 处理节点///////\n",
    "    nodes_data = []\n",
    "    for i in city_names:\n",
    "        city_id = city_dict.get(i)\n",
    "        label = df_citys[df_citys.name==i]['en_name'].values[0]\n",
    "        nodes_data.append([city_id, i, label])\n",
    "    final_nodes = pd.DataFrame(nodes_data, columns=['Id', 'name','label'])\n",
    "    \n",
    "    #////STEP5:保存数据////\n",
    "    folder_path = './地图_QGIS/top10_last10/' + city + '/'\n",
    "    if not os.path.exists(folder_path):\n",
    "        os.makedirs(folder_path)\n",
    "        print(f\"文件夹 '{folder_path}' 已创建。\")\n",
    "        \n",
    "    final_edges.to_csv(folder_path + 'edges.csv', index=None)\n",
    "    final_nodes.to_csv(folder_path + 'nodes.csv', index=None)\n",
    "    \n",
    "    #////TODO: STEP6: gephi可视化好看/////\n",
    "    \n",
    "    return final_nodes, final_edges"
   ]
  },
  {
   "cell_type": "code",
   "execution_count": null,
   "id": "8cd1c0e0-2a16-4527-a557-50901616888d",
   "metadata": {},
   "outputs": [],
   "source": []
  }
 ],
 "metadata": {
  "kernelspec": {
   "display_name": "Python 3 (ipykernel)",
   "language": "python",
   "name": "python3"
  },
  "language_info": {
   "codemirror_mode": {
    "name": "ipython",
    "version": 3
   },
   "file_extension": ".py",
   "mimetype": "text/x-python",
   "name": "python",
   "nbconvert_exporter": "python",
   "pygments_lexer": "ipython3",
   "version": "3.11.5"
  }
 },
 "nbformat": 4,
 "nbformat_minor": 5
}
