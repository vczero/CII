{
 "cells": [
  {
   "cell_type": "code",
   "execution_count": 17,
   "id": "086d7ca0-393a-43f4-8d1b-21eec4a6df56",
   "metadata": {
    "tags": []
   },
   "outputs": [],
   "source": [
    "import pandas as pd\n",
    "import numpy as np\n",
    "from collections import Counter\n",
    "import matplotlib.pyplot as plt\n",
    "import seaborn as sns\n",
    "import matplotlib.lines as mlines\n",
    "import os\n",
    "from IPython.display import display\n",
    "import networkx as nx\n",
    "import statistics\n",
    "import scipy.stats as st\n",
    "from sklearn.metrics import jaccard_score\n",
    "from scipy import stats\n",
    "from scipy.stats import zscore"
   ]
  },
  {
   "cell_type": "code",
   "execution_count": 18,
   "id": "77603e65-0c92-4507-9e0c-5ed92a9f9e03",
   "metadata": {
    "tags": []
   },
   "outputs": [],
   "source": [
    "df_martix = pd.read_csv('./study_data/cities_gzh_aja_martix.csv')\n",
    "df_citys = pd.read_csv('./study_data/sa340.csv')\n",
    "df_martix.set_index('city', inplace=True)\n",
    "rank = pd.read_csv('./study_data/score/城市信息+排名得分综合表.csv')\n",
    "# 可视化配置\n",
    "fontdict = {'weight': 600, 'size':12}"
   ]
  },
  {
   "cell_type": "code",
   "execution_count": 32,
   "id": "54ee7035-9b06-4d4d-ada1-edeff3809740",
   "metadata": {
    "tags": []
   },
   "outputs": [
    {
     "name": "stdout",
     "output_type": "stream",
     "text": [
      "2016 276\n",
      "2017 275\n",
      "2018 276\n",
      "2019 275\n",
      "2020 274\n",
      "2021 275\n"
     ]
    }
   ],
   "source": [
    "def show_gdp_cities_num(year):\n",
    "    # 匹配前数据条数\n",
    "    df_GDP = pd.read_csv('./data/GDP' + str(year) + '_clean_data.csv')\n",
    "    print(year, len(df_GDP))\n",
    "    \n",
    "show_gdp_cities_num(2016)\n",
    "show_gdp_cities_num(2017)\n",
    "show_gdp_cities_num(2018)\n",
    "show_gdp_cities_num(2019)\n",
    "show_gdp_cities_num(2020)\n",
    "show_gdp_cities_num(2021)"
   ]
  },
  {
   "cell_type": "code",
   "execution_count": 72,
   "id": "11f2193c-8401-417e-b132-03aad9823f8a",
   "metadata": {
    "tags": []
   },
   "outputs": [],
   "source": [
    "def show_score_gdp_correlation(df_gdp_score, year):\n",
    "    # #ED6168\n",
    "    socre_type = 'ARI'\n",
    "    \n",
    "    \n",
    "    #////////////////皮尔逊相关系数//////////\n",
    "    # 转成正态分布\n",
    "    _CII = np.log(list(df_gdp_score[socre_type]))\n",
    "    _GDP = np.log(list(df_gdp_score['gdp']))\n",
    "    \n",
    "    print('///////////////////////')\n",
    "    print('匹配到数据条数：', len(_CII), len(_GDP))\n",
    "    \n",
    "    pearson_corr, p_value = st.pearsonr(_CII, _GDP)\n",
    "    print('pearson_corr', pearson_corr)\n",
    "    print(p_value)\n",
    "    \n",
    "    \n",
    "    g = sns.JointGrid(data=df_gdp_score, x=socre_type, y='gdp', space=0, ratio=10)\n",
    "    g.plot_joint(sns.scatterplot, size=df_gdp_score[\"gdp\"] , sizes=(5, 120), color=\"g\", alpha=.7, legend=False)\n",
    "    g.plot_joint(sns.regplot, order=2, color=\"#ED6168\", scatter=False)\n",
    "    g.plot_marginals(sns.rugplot, height=1, color=\"g\", alpha=.6)\n",
    "    \n",
    "    FONT_SIZE = 15\n",
    "    g.set_axis_labels(xlabel='CII Score of City', ylabel= 'GDP of City in ' + year, fontdict={'weight': 600, 'size':FONT_SIZE})\n",
    "    g.ax_joint.tick_params(axis='x', labelsize=FONT_SIZE)\n",
    "    g.ax_joint.tick_params(axis='y', labelsize=FONT_SIZE)\n",
    "    \n",
    "  \n",
    "    text = 'Year ' + year + f\"\\npearson_corr: {pearson_corr:.4f}\\np-value: {p_value:.4e}\"\n",
    "    g.ax_joint.text(\n",
    "        0.5, 0.5, text,\n",
    "        ha='center', va='center',\n",
    "        transform=g.ax_joint.transAxes,\n",
    "        fontsize=FONT_SIZE,\n",
    "        bbox=dict(boxstyle=\"round, pad=0.3\", edgecolor='black', facecolor='white')\n",
    "    )\n",
    "\n",
    "    g.fig.savefig('./地图_QGIS/GDP/CII_GDP_' + year + '.pdf', dpi=600, bbox_inches = 'tight')\n",
    "    \n",
    "    \n",
    "    \n",
    "    \n",
    "def show_QQ(data):\n",
    "    plt.figure(figsize=(8, 6))\n",
    "    stats.probplot(data, dist=\"norm\", plot=plt)\n",
    "    plt.show()\n",
    "    \n",
    "def do_do(year):\n",
    "    year = str(year)\n",
    "    print(year)\n",
    "    df_GDP = pd.read_csv('./data/GDP' + year + '_clean_data.csv')\n",
    "    df_gdp_score = pd.merge(rank, df_GDP, on='name')\n",
    "    show_score_gdp_correlation(df_gdp_score, year)"
   ]
  }
 ],
 "metadata": {
  "kernelspec": {
   "display_name": "Python 3 (ipykernel)",
   "language": "python",
   "name": "python3"
  },
  "language_info": {
   "codemirror_mode": {
    "name": "ipython",
    "version": 3
   },
   "file_extension": ".py",
   "mimetype": "text/x-python",
   "name": "python",
   "nbconvert_exporter": "python",
   "pygments_lexer": "ipython3",
   "version": "3.11.5"
  }
 },
 "nbformat": 4,
 "nbformat_minor": 5
}
