{
 "cells": [
  {
   "cell_type": "code",
   "execution_count": 1,
   "id": "d37ff812",
   "metadata": {},
   "outputs": [],
   "source": [
    "import pandas as pd\n",
    "# Study area\n",
    "# Latitude and longitude are acquired by AMap\n",
    "study_area = pd.read_csv('./data/study_area_339.csv', dtype = {'citycode' : str, 'adcode' : str, 'pro_adcode' : str})\n",
    "study_area"
   ]
  },
  {
   "cell_type": "code",
   "execution_count": 2,
   "id": "bdd7ebc6",
   "metadata": {},
   "outputs": [],
   "source": [
    "# Adjust column name\n",
    "gzh_mapping = pd.read_csv('./data/city_gzh_mapping.csv')\n",
    "gzh_mapping = gzh_mapping.rename(columns={'city_name':'name', 'province': 'pro_shortname'})\n",
    "gzh_mapping"
   ]
  },
  {
   "cell_type": "code",
   "execution_count": 3,
   "id": "bb866b8f",
   "metadata": {},
   "outputs": [],
   "source": [
    "# mapping\n",
    "sa399 = pd.merge(study_area, gzh_mapping, on='name')\n",
    "sa399"
   ]
  },
  {
   "cell_type": "code",
   "execution_count": 4,
   "id": "d9b80cec",
   "metadata": {},
   "outputs": [],
   "source": [
    "sa399.to_csv('./data/sa399.csv', index=None)"
   ]
  },
  {
   "cell_type": "code",
   "execution_count": null,
   "id": "41dda03a",
   "metadata": {},
   "outputs": [],
   "source": []
  },
  {
   "cell_type": "code",
   "execution_count": null,
   "id": "40c2083f",
   "metadata": {},
   "outputs": [],
   "source": []
  }
 ],
 "metadata": {
  "kernelspec": {
   "display_name": "Python 3 (ipykernel)",
   "language": "python",
   "name": "python3"
  },
  "language_info": {
   "codemirror_mode": {
    "name": "ipython",
    "version": 3
   },
   "file_extension": ".py",
   "mimetype": "text/x-python",
   "name": "python",
   "nbconvert_exporter": "python",
   "pygments_lexer": "ipython3",
   "version": "3.11.5"
  }
 },
 "nbformat": 4,
 "nbformat_minor": 5
}
